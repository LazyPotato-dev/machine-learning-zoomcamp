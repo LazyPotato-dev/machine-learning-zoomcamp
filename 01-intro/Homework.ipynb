{
 "cells": [
  {
   "cell_type": "code",
   "execution_count": 1,
   "id": "c54c39e6-79b3-44f0-9ac6-7a1411913788",
   "metadata": {},
   "outputs": [],
   "source": [
    "import pandas as pd\n",
    "import numpy as np"
   ]
  },
  {
   "cell_type": "code",
   "execution_count": 2,
   "id": "58c496f3-a537-4b58-bdfc-d9e41435cd64",
   "metadata": {},
   "outputs": [],
   "source": [
    "df = pd.read_csv('car_fuel_efficiency.csv')\n",
    "# print(df.head(20))  # prints first 20 rows"
   ]
  },
  {
   "cell_type": "code",
   "execution_count": 3,
   "id": "11aa6e0c-3dd5-4529-93e7-3f8ac4375189",
   "metadata": {},
   "outputs": [
    {
     "name": "stdout",
     "output_type": "stream",
     "text": [
      "pandas version in my system is - 2.3.2\n"
     ]
    }
   ],
   "source": [
    "# What's the version of Pandas that you installed?\n",
    "version = pd.__version__\n",
    "print(\"pandas version in my system is -\", version)"
   ]
  },
  {
   "cell_type": "code",
   "execution_count": 4,
   "id": "783ff5ff-89ba-4103-a016-fa34e47a6f1f",
   "metadata": {},
   "outputs": [
    {
     "name": "stdout",
     "output_type": "stream",
     "text": [
      "Maximum number of records are -  9704\n"
     ]
    }
   ],
   "source": [
    "# How many records are in the dataset?\n",
    "print(\"Maximum number of records are - \", df.count().max())"
   ]
  },
  {
   "cell_type": "code",
   "execution_count": 5,
   "id": "c3e1fbc0-1e46-43f7-bc63-22711c1a9302",
   "metadata": {},
   "outputs": [
    {
     "name": "stdout",
     "output_type": "stream",
     "text": [
      "Total number of fuel type is - 2\n"
     ]
    }
   ],
   "source": [
    "# How many fuel types are presented in the dataset?\n",
    "\n",
    "ans = df['fuel_type'].nunique()\n",
    "print(\"Total number of fuel type is -\", ans)"
   ]
  },
  {
   "cell_type": "code",
   "execution_count": 6,
   "id": "78b9c3a1-2ddf-4543-b40e-4d9d3814649a",
   "metadata": {},
   "outputs": [
    {
     "name": "stdout",
     "output_type": "stream",
     "text": [
      "Total missing values columns are - 4\n"
     ]
    }
   ],
   "source": [
    "# How many columns in the dataset have missing values?\n",
    "\n",
    "null_column = df.isnull().any()\n",
    "# print(null_column)\n",
    "print(\"Total missing values columns are -\", null_column.sum())"
   ]
  },
  {
   "cell_type": "code",
   "execution_count": 7,
   "id": "f0855a41-2802-49b2-b41a-d5fa3e3ff5d7",
   "metadata": {},
   "outputs": [
    {
     "name": "stdout",
     "output_type": "stream",
     "text": [
      "Maximum fuel efficiency of cars from Asia is - 23.759122836520497\n"
     ]
    }
   ],
   "source": [
    "# What's the maximum fuel efficiency of cars from Asia?\n",
    "\n",
    "Asia = df[df['origin'] == 'Asia']\n",
    "fuel = Asia['fuel_efficiency_mpg']\n",
    "print(\"Maximum fuel efficiency of cars from Asia is -\", fuel.max())"
   ]
  },
  {
   "cell_type": "code",
   "execution_count": 8,
   "id": "c6430a1b-f86e-4683-b126-baaf16596a79",
   "metadata": {},
   "outputs": [
    {
     "name": "stdout",
     "output_type": "stream",
     "text": [
      "Median is - 149.0\n",
      "most frequent value is - 152.0\n",
      "Modified median is - 152.0\n"
     ]
    }
   ],
   "source": [
    "# Find the median value of horsepower column in the dataset.\n",
    "# Next, calculate the most frequent value of the same horsepower column.\n",
    "# Use fillna method to fill the missing values in horsepower column with the most frequent value from the previous step.\n",
    "# Now, calculate the median value of horsepower once again.\n",
    "horsepower = df['horsepower']\n",
    "median = horsepower.median()\n",
    "print(\"Median is -\", median)\n",
    "\n",
    "frequent_value = df[\"horsepower\"].mode()[0]\n",
    "print(\"most frequent value is -\",frequent_value)\n",
    "\n",
    "modified_horsepower = horsepower.fillna(frequent_value)\n",
    "\n",
    "modified_median = modified_horsepower.median()\n",
    "print(\"Modified median is -\", modified_median)"
   ]
  },
  {
   "cell_type": "code",
   "execution_count": 9,
   "id": "d4355274-4e6d-43f3-b080-52446f07946a",
   "metadata": {},
   "outputs": [
    {
     "name": "stdout",
     "output_type": "stream",
     "text": [
      "w is: [0.01386421 0.5049067 ]\n",
      "Sum of all elements in w: 0.5187709081074026\n"
     ]
    }
   ],
   "source": [
    "# Select all the cars from Asia\n",
    "# Select only columns vehicle_weight and model_year Select the first 7 values\n",
    "# Select the first 7 values\n",
    "# Get the underlying NumPy array. Let's call it X.\n",
    "# Compute matrix-matrix multiplication between the transpose of X and X. To get the transpose, use X.T. Let's call the result XTX.\n",
    "# Invert XTX.\n",
    "# Create an array y with values [1100, 1300, 800, 900, 1000, 1100, 1200].\n",
    "# Multiply the inverse of XTX with the transpose of X, and then multiply the result by y. Call the result w\n",
    "# What's the sum of all the elements of the result?\n",
    "\n",
    "# Step 1: Select all cars from Asia\n",
    "Asia = df[df['origin'] == 'Asia']\n",
    "\n",
    "# Step 2: Select only vehicle_weight and model_year columns\n",
    "Asia_selected = Asia[['vehicle_weight', 'model_year']]\n",
    "\n",
    "# Step 3: Select the first 7 values (rows)\n",
    "X = Asia_selected[:7].to_numpy()\n",
    "\n",
    "# Step 4: Compute X^T * X\n",
    "XTX = (X.T).dot(X)\n",
    "\n",
    "# Step 5: Invert XTX\n",
    "XTX_inv = np.linalg.inv(XTX)\n",
    "\n",
    "# Step 6: Create y\n",
    "y = np.array([1100, 1300, 800, 900, 1000, 1100, 1200])\n",
    "\n",
    "# Step 7: Compute w = (XTX)^-1 * X^T * y\n",
    "w = XTX_inv.dot(X.T).dot(y)\n",
    "\n",
    "# Step 8: Sum of elements in w\n",
    "result_sum = w.sum()\n",
    "\n",
    "print(\"w is:\", w)\n",
    "print(\"Sum of all elements in w:\", result_sum)"
   ]
  }
 ],
 "metadata": {
  "kernelspec": {
   "display_name": "Python 3 (ipykernel)",
   "language": "python",
   "name": "python3"
  },
  "language_info": {
   "codemirror_mode": {
    "name": "ipython",
    "version": 3
   },
   "file_extension": ".py",
   "mimetype": "text/x-python",
   "name": "python",
   "nbconvert_exporter": "python",
   "pygments_lexer": "ipython3",
   "version": "3.13.7"
  }
 },
 "nbformat": 4,
 "nbformat_minor": 5
}
